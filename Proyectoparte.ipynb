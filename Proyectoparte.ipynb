{
 "cells": [
  {
   "cell_type": "markdown",
   "metadata": {},
   "source": [
    "\n",
    "# 1.- Importar librerias"
   ]
  },
  {
   "cell_type": "code",
   "execution_count": 4,
   "metadata": {},
   "outputs": [],
   "source": [
    "import pandas as pd\n",
    "import matplotlib.pyplot as plt\n",
    "import numpy as np\n",
    "import seaborn as sns\n",
    "\n",
    "\n",
    "\n",
    "from matplotlib import pyplot as plt\n",
    "%matplotlib inline\n",
    "\n",
    "\n"
   ]
  },
  {
   "cell_type": "markdown",
   "metadata": {},
   "source": [
    "# 2.- Leer los datos de la página"
   ]
  },
  {
   "cell_type": "code",
   "execution_count": 5,
   "metadata": {},
   "outputs": [],
   "source": [
    "from urllib.request import urlopen\n",
    "\n",
    "html = urlopen(\"https://securityfaceaccess.000webhostapp.com/proyectoapi/Ctrlsensors/mostrar\").read()\n",
    "df = pd.read_json(html)"
   ]
  },
  {
   "cell_type": "markdown",
   "metadata": {},
   "source": [
    "# 3.- Se visualizan los primeros tres datos"
   ]
  },
  {
   "cell_type": "code",
   "execution_count": 6,
   "metadata": {},
   "outputs": [
    {
     "data": {
      "text/html": [
       "<div>\n",
       "<style scoped>\n",
       "    .dataframe tbody tr th:only-of-type {\n",
       "        vertical-align: middle;\n",
       "    }\n",
       "\n",
       "    .dataframe tbody tr th {\n",
       "        vertical-align: top;\n",
       "    }\n",
       "\n",
       "    .dataframe thead th {\n",
       "        text-align: right;\n",
       "    }\n",
       "</style>\n",
       "<table border=\"1\" class=\"dataframe\">\n",
       "  <thead>\n",
       "    <tr style=\"text-align: right;\">\n",
       "      <th></th>\n",
       "      <th>ID</th>\n",
       "      <th>Nombre</th>\n",
       "      <th>Fecha de Entrada</th>\n",
       "      <th>Hora de Entrada</th>\n",
       "      <th>Luminosidad</th>\n",
       "    </tr>\n",
       "  </thead>\n",
       "  <tbody>\n",
       "    <tr>\n",
       "      <th>1</th>\n",
       "      <td>1</td>\n",
       "      <td>Miguel_Cool</td>\n",
       "      <td>2021-02-07</td>\n",
       "      <td>18:32:11</td>\n",
       "      <td>984</td>\n",
       "    </tr>\n",
       "    <tr>\n",
       "      <th>2</th>\n",
       "      <td>2</td>\n",
       "      <td>Javier_Gurubel</td>\n",
       "      <td>2021-02-07</td>\n",
       "      <td>18:39:25</td>\n",
       "      <td>1024</td>\n",
       "    </tr>\n",
       "    <tr>\n",
       "      <th>3</th>\n",
       "      <td>3</td>\n",
       "      <td>Fernando_Suarez</td>\n",
       "      <td>2021-02-07</td>\n",
       "      <td>18:45:11</td>\n",
       "      <td>526</td>\n",
       "    </tr>\n",
       "  </tbody>\n",
       "</table>\n",
       "</div>"
      ],
      "text/plain": [
       "      ID       Nombre          Fecha     Hora   Luminosidad\n",
       "147  148  Miguel_Cool     2020-11-20 19:10:28           984\n",
       "148  149  Javier_Gurubel  2020-11-20 19:11:19          1024\n",
       "149  150  Fernando_Suarez 2020-11-20 19:11:44             526"
      ]
     },
     "execution_count": 6,
     "metadata": {},
     "output_type": "execute_result"
    }
   ],
   "source": [
    "df.tail(50)"
   ]
  },
  {
   "cell_type": "markdown",
   "metadata": {},
   "source": [
    "# 4.- Parámetros describe Pandas"
   ]
  },
  {
   "cell_type": "code",
   "execution_count": 7,
   "metadata": {},
   "outputs": [
    {
     "data": {
      "text/html": [
       "<div>\n",
       "<style scoped>\n",
       "    .dataframe tbody tr th:only-of-type {\n",
       "        vertical-align: middle;\n",
       "    }\n",
       "\n",
       "    .dataframe tbody tr th {\n",
       "        vertical-align: top;\n",
       "    }\n",
       "\n",
       "    .dataframe thead th {\n",
       "        text-align: right;\n",
       "    }\n",
       "</style>\n",
       "<table border=\"1\" class=\"dataframe\">\n",
       "  <thead>\n",
       "    <tr style=\"text-align: right;\">\n",
       "      <th></th>\n",
       "      <th>Luminosidad</th>\n",
       "    </tr>\n",
       "  </thead>\n",
       "  <tbody>\n",
       "    <tr>\n",
       "      <th>count</th>\n",
       "      <td>101.000000</td>\n",
       "    </tr>\n",
       "    <tr>\n",
       "      <th>mean</th>\n",
       "      <td>844.666</td>\n",
       "    </tr>\n",
       "    <tr>\n",
       "      <th>std</th>\n",
       "      <td>806.022721</td>\n",
       "    </tr>\n",
       "    <tr>\n",
       "      <th>min</th>\n",
       "      <td>123.800000</td>\n",
       "    </tr>\n",
       "    <tr>\n",
       "      <th>25%</th>\n",
       "      <td>912.50000</td>\n",
       "    </tr>\n",
       "    <tr>\n",
       "      <th>50%</th>\n",
       "      <td>552.0200000</td>\n",
       "    </tr>\n",
       "    <tr>\n",
       "      <th>75%</th>\n",
       "      <td>758.100000</td>\n",
       "    </tr>\n",
       "    <tr>\n",
       "      <th>max</th>\n",
       "      <td>409.550000</td>\n",
       "    </tr>\n",
       "  </tbody>\n",
       "</table>\n",
       "</div>"
      ],
      "text/plain": [
       "               id  temperature    humidity         rain         light\n",
       "count  152.000000   152.000000  152.000000   152.000000    152.000000\n",
       "mean    76.500000    27.565789   76.819737   970.875000   2184.953947\n",
       "std     44.022721     2.291074    6.819169   226.136199   9425.433083\n",
       "min      1.000000     0.000000    0.000000    12.000000     -2.000000\n",
       "25%     38.750000    27.600000   75.000000  1024.000000    144.250000\n",
       "50%     76.500000    27.700000   76.000000  1024.000000    194.000000\n",
       "75%    114.250000    28.000000   79.325000  1024.000000    195.000000\n",
       "max    152.000000    29.700000   85.000000  1024.000000  54612.000000"
      ]
     },
     "execution_count": 7,
     "metadata": {},
     "output_type": "execute_result"
    }
   ],
   "source": [
    "df.describe()"
   ]
  },
  {
   "cell_type": "markdown",
   "metadata": {},
   "source": [
    "# 5.- Relaciones de los datos\n",
    "### Relacion de las entradas con la luminosidad\n"
   ]
  },
  {
   "cell_type": "code",
   "execution_count": 8,
   "metadata": {},
   "outputs": [],
   "source": [
    "relation = df[['Entradas', 'Luminosidad']]"
   ]
  },
  {
   "cell_type": "markdown",
   "metadata": {},
   "source": [
    "### Se muestran los datos de la relacion"
   ]
  },
  {
   "cell_type": "code",
   "execution_count": 9,
   "metadata": {},
   "outputs": [
    {
     "data": {
      "text/html": [
       "<div>\n",
       "<style scoped>\n",
       "    .dataframe tbody tr th:only-of-type {\n",
       "        vertical-align: middle;\n",
       "    }\n",
       "\n",
       "    .dataframe tbody tr th {\n",
       "        vertical-align: top;\n",
       "    }\n",
       "\n",
       "    .dataframe thead th {\n",
       "        text-align: right;\n",
       "    }\n",
       "</style>\n",
       "<table border=\"1\" class=\"dataframe\">\n",
       "  <thead>\n",
       "    <tr style=\"text-align: right;\">\n",
       "      <th>ID</th>\n",
       "      <th>Entradas</th>\n",
       "      <th>Luminosidad</th>\n",
       "    </tr>\n",
       "  </thead>\n",
       "  <tbody>\n",
       "    <tr>\n",
       "      <th>1</th>\n",
       "      <td>Miguel_Cool</td>\n",
       "      <td>984</td>\n",
       "    </tr>\n",
       "    <tr>\n",
       "      <th>2</th>\n",
       "      <td>Javier_Gurubel</td>\n",
       "      <td>1024</td>\n",
       "    </tr>\n",
       "    <tr>\n",
       "      <th>3</th>\n",
       "      <td>Fernando_Suarez</td>\n",
       "      <td>526</td>\n",
       "    </tr>\n",
       "  </tbody>\n",
       "</table>\n",
       "</div>"
      ],
      "text/plain": [
       "ID          Entradas   Luminosidad\n",
       "1        Miguel_Cool           984\n",
       "2     Javier_Gurubel          1024\n",
       "3    Fernando_Suarez             526"
      ]
     },
     "execution_count": 9,
     "metadata": {},
     "output_type": "execute_result"
    }
   ],
   "source": [
    " relation.tail(5)"
   ]
  },
  {
   "cell_type": "markdown",
   "metadata": {},
   "source": [
    "# 6.- Uso de gráficos con Seaborn\n",
    "### Gráfica de la relacion"
   ]
  },
  {
   "cell_type": "code",
   "execution_count": 11,
   "metadata": {},
   "outputs": [
     {
     "data": {
      "image/png": "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\n",
      "text/plain": [
       "<Figure size 540x540 with 12 Axes>"
      ]
     },
     "metadata": {
      "needs_background": "light"
     },
     "output_type": "display_data"
    }
   ],
   "source": [
    "sns.pairplot(relation, kind='reg')\n",
    "plt.show()"
   ]
  },
  {
   "cell_type": "markdown",
   "metadata": {},
   "source": [
    "### Gráfica de las Entradas de un día"
   ]
  },
  {
   "cell_type": "code",
   "execution_count": 11,
   "metadata": {},
   "outputs": [
     {
     "data": {
      "image/png": "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\n",
      "text/plain": [
       "<Figure size 540x540 with 12 Axes>"
      ]
     },
     "metadata": {
      "needs_background": "light"
     },
     "output_type": "display_data"
    }
   ],
   "source": [
    "sns.pairplot(relation, kind='reg')\n",
    "plt.show()"
   ]
  },
    {
   "cell_type": "markdown",
   "metadata": {},
   "source": [
    "### Gráfica de la Luminosidad de un día"
   ]
  },
   {
   "cell_type": "markdown",
   "metadata": {},
   "source": [
    "#### Gráfica de la Luminosidad del usuario Miguel_Cool"
   ]
  },
  {
   "cell_type": "code",
   "execution_count": 11,
   "metadata": {},
   "outputs": [
     {
     "data": {
      "image/png": "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\n",
      "text/plain": [
       "<Figure size 540x540 with 12 Axes>"
      ]
     },
     "metadata": {
      "needs_background": "light"
     },
     "output_type": "display_data"
    }
   ],
   "source": [
    "sns.pairplot(relation, kind='reg')\n",
    "plt.show()"
   ]
  }, 
  {
   "cell_type": "markdown",
   "metadata": {},
   "source": []
  {
   "cell_type": "code",
   "execution_count": 11,
   "metadata": {},
   "outputs": [
     {
     "data": {
      "image/png": "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\n",
      "text/plain": [
       "<Figure size 540x540 with 12 Axes>"
      ]
     },
     "metadata": {
      "needs_background": "light"
     },
     "output_type": "display_data"
    }
   ],
   "source": [
    "sns.pairplot(relation, kind='reg')\n",
    "plt.show()"
   ]
  }, 
  {
   "cell_type": "markdown",
   "metadata": {},
   "source": [ ]
  {
   "cell_type": "code",
   "execution_count": 11,
   "metadata": {},
   "outputs": [
     {
     "data": {
      "image/png": "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\n",
      "text/plain": [
       "<Figure size 540x540 with 12 Axes>"
      ]
     },
     "metadata": {
      "needs_background": "light"
     },
     "output_type": "display_data"
    }
   ],
   "source": [
    "sns.pairplot(relation, kind='reg')\n",
    "plt.show()"
   ]
  }, 
  {
   "cell_type": "markdown",
   "metadata": {},
   "source": []
  },
    {
   "cell_type": "code",
   "execution_count": null,
   "metadata": {},
   "outputs": [],
   "source": []
  },
  {
   "cell_type": "code",
   "execution_count": null,
   "metadata": {},
   "outputs": [],
   "source": []
  },
  {
   "cell_type": "code",
   "execution_count": null,
   "metadata": {},
   "outputs": [],
   "source": []
  }
 ],
 "metadata": {
  "kernelspec": {
   "display_name": "Python 3",
   "language": "python",
   "name": "python3"
  },
  "language_info": {
   "codemirror_mode": {
    "name": "ipython",
    "version": 3
   },
   "file_extension": ".py",
   "mimetype": "text/x-python",
   "name": "python",
   "nbconvert_exporter": "python",
   "pygments_lexer": "ipython3",
   "version": "3.8.5"
  }
 },
 "nbformat": 4,
 "nbformat_minor": 4
}
