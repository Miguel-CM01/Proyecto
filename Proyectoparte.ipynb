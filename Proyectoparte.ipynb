{
 "cells": [
  {
   "cell_type": "markdown",
   "metadata": {},
   "source": [
    "\n",
    "# 1. Importar librerias"
   ]
  },
  {
   "cell_type": "code",
   "execution_count": 4,
   "metadata": {},
   "outputs": [],
   "source": [
    "import pandas as pd\n",
    "import matplotlib.pyplot as plt\n",
    "import numpy as np\n",
    "import seaborn as sns\n",
    "\n",
    "\n",
    "\n",
    "from matplotlib import pyplot as plt\n",
    "%matplotlib inline\n",
    "\n",
    "\n"
   ]
  },
  {
   "cell_type": "markdown",
   "metadata": {},
   "source": [
    "# 2. Leer los datos de la página"
   ]
  },
  {
   "cell_type": "code",
   "execution_count": 5,
   "metadata": {},
   "outputs": [],
   "source": [
    "from urllib.request import urlopen\n",
    "\n",
    "html = urlopen(\"https://securityfaceaccess.000webhostapp.com/proyectoapi/Ctrlsensors/mostrar\").read()\n",
    "df = pd.read_json(html)"
   ]
  },
  {
   "cell_type": "markdown",
   "metadata": {},
   "source": [
    "# 3.1 Se visualizan los 3 primeros datos"
   ]
  },
  {
   "cell_type": "code",
   "execution_count": 6,
   "metadata": {},
   "outputs": [
    {
     "data": {
      "text/html": [
       "<div>\n",
       "<style scoped>\n",
       "    .dataframe tbody tr th:only-of-type {\n",
       "        vertical-align: middle;\n",
       "    }\n",
       "\n",
       "    .dataframe tbody tr th {\n",
       "        vertical-align: top;\n",
       "    }\n",
       "\n",
       "    .dataframe thead th {\n",
       "        text-align: right;\n",
       "    }\n",
       "</style>\n",
       "<table border=\"1\" class=\"dataframe\">\n",
       "  <thead>\n",
       "    <tr style=\"text-align: right;\">\n",
       "      <th></th>\n",
       "      <th>ID</th>\n",
       "      <th>Nombre</th>\n",
       "      <th>Fecha de Entrada</th>\n",
       "      <th>Hora de Entrada</th>\n",
       "      <th>Luminosidad</th>\n",
       "    </tr>\n",
       "  </thead>\n",
       "  <tbody>\n",
       "    <tr>\n",
       "      <th>1</th>\n",
       "      <td>1</td>\n",
       "      <td>Miguel_Cool</td>\n",
       "      <td>2021-02-07</td>\n",
       "      <td>18:32:11</td>\n",
       "      <td>984</td>\n",
       "    </tr>\n",
       "    <tr>\n",
       "      <th>2</th>\n",
       "      <td>2</td>\n",
       "      <td>Javier_Gurubel</td>\n",
       "      <td>2021-02-07</td>\n",
       "      <td>18:39:25</td>\n",
       "      <td>1024</td>\n",
       "    </tr>\n",
       "    <tr>\n",
       "      <th>3</th>\n",
       "      <td>3</td>\n",
       "      <td>Fernando_Suarez</td>\n",
       "      <td>2021-02-07</td>\n",
       "      <td>18:45:11</td>\n",
       "      <td>526</td>\n",
       "    </tr>\n",
       "  </tbody>\n",
       "</table>\n",
       "</div>"
      ],
      "text/plain": [
       "      ID       Nombre          Fecha     Hora   Luminosidad\n",
       "147  148  Miguel_Cool     2020-11-20 19:10:28           984\n",
       "148  149  Javier_Gurubel  2020-11-20 19:11:19          1024\n",
       "149  150  Fernando_Suarez 2020-11-20 19:11:44             526"
      ]
     },
     "execution_count": 6,
     "metadata": {},
     "output_type": "execute_result"
    }
   ],
   "source": [
    "df.tail(50)"
   ]
  },
  {
   "cell_type": "markdown",
   "metadata": {},
   "source": [
    "# 3.2 Parámetros describe Pandas"
   ]
  },
  {
   "cell_type": "code",
   "execution_count": 7,
   "metadata": {},
   "outputs": [
    {
     "data": {
      "text/html": [
       "<div>\n",
       "<style scoped>\n",
       "    .dataframe tbody tr th:only-of-type {\n",
       "        vertical-align: middle;\n",
       "    }\n",
       "\n",
       "    .dataframe tbody tr th {\n",
       "        vertical-align: top;\n",
       "    }\n",
       "\n",
       "    .dataframe thead th {\n",
       "        text-align: right;\n",
       "    }\n",
       "</style>\n",
       "<table border=\"1\" class=\"dataframe\">\n",
       "  <thead>\n",
       "    <tr style=\"text-align: right;\">\n",
       "      <th></th>\n",
       "      <th>Luminosidad</th>\n",
       "    </tr>\n",
       "  </thead>\n",
       "  <tbody>\n",
       "    <tr>\n",
       "      <th>count</th>\n",
       "      <td>101.000000</td>\n",
       "    </tr>\n",
       "    <tr>\n",
       "      <th>mean</th>\n",
       "      <td>844.666</td>\n",
       "    </tr>\n",
       "    <tr>\n",
       "      <th>std</th>\n",
       "      <td>806.022721</td>\n",
       "    </tr>\n",
       "    <tr>\n",
       "      <th>min</th>\n",
       "      <td>123.800000</td>\n",
       "    </tr>\n",
       "    <tr>\n",
       "      <th>25%</th>\n",
       "      <td>912.50000</td>\n",
       "    </tr>\n",
       "    <tr>\n",
       "      <th>50%</th>\n",
       "      <td>552.0200000</td>\n",
       "    </tr>\n",
       "    <tr>\n",
       "      <th>75%</th>\n",
       "      <td>758.100000</td>\n",
       "    </tr>\n",
       "    <tr>\n",
       "      <th>max</th>\n",
       "      <td>409.550000</td>\n",
       "    </tr>\n",
       "  </tbody>\n",
       "</table>\n",
       "</div>"
      ],
      "text/plain": [
       "               id  temperature    humidity         rain         light\n",
       "count  152.000000   152.000000  152.000000   152.000000    152.000000\n",
       "mean    76.500000    27.565789   76.819737   970.875000   2184.953947\n",
       "std     44.022721     2.291074    6.819169   226.136199   9425.433083\n",
       "min      1.000000     0.000000    0.000000    12.000000     -2.000000\n",
       "25%     38.750000    27.600000   75.000000  1024.000000    144.250000\n",
       "50%     76.500000    27.700000   76.000000  1024.000000    194.000000\n",
       "75%    114.250000    28.000000   79.325000  1024.000000    195.000000\n",
       "max    152.000000    29.700000   85.000000  1024.000000  54612.000000"
      ]
     },
     "execution_count": 7,
     "metadata": {},
     "output_type": "execute_result"
    }
   ],
   "source": [
    "df.describe()"
   ]
  },
  {
   "cell_type": "markdown",
   "metadata": {},
   "source": [
    "# Relaciones de los datos\n",
    "## Relacion de las entradas con la luminosidad\n"
   ]
  },
  {
   "cell_type": "code",
   "execution_count": 8,
   "metadata": {},
   "outputs": [],
   "source": [
    "relation = df[['Entradas', 'Luminosidad']]"
   ]
  },
  {
   "cell_type": "markdown",
   "metadata": {},
   "source": [
    "## 4 Se muestran los datos de la relacion"
   ]
  },
  {
   "cell_type": "code",
   "execution_count": 9,
   "metadata": {},
   "outputs": [
    {
     "data": {
      "text/html": [
       "<div>\n",
       "<style scoped>\n",
       "    .dataframe tbody tr th:only-of-type {\n",
       "        vertical-align: middle;\n",
       "    }\n",
       "\n",
       "    .dataframe tbody tr th {\n",
       "        vertical-align: top;\n",
       "    }\n",
       "\n",
       "    .dataframe thead th {\n",
       "        text-align: right;\n",
       "    }\n",
       "</style>\n",
       "<table border=\"1\" class=\"dataframe\">\n",
       "  <thead>\n",
       "    <tr style=\"text-align: right;\">\n",
       "      <th>ID</th>\n",
       "      <th>Entradas</th>\n",
       "      <th>Luminosidad</th>\n",
       "    </tr>\n",
       "  </thead>\n",
       "  <tbody>\n",
       "    <tr>\n",
       "      <th>1</th>\n",
       "      <td>Miguel_Cool</td>\n",
       "      <td>984</td>\n",
       "    </tr>\n",
       "    <tr>\n",
       "      <th>2</th>\n",
       "      <td>Javier_Gurubel</td>\n",
       "      <td>1024</td>\n",
       "    </tr>\n",
       "    <tr>\n",
       "      <th>3</th>\n",
       "      <td>Fernando_Suarez</td>\n",
       "      <td>526</td>\n",
       "    </tr>\n",
       "  </tbody>\n",
       "</table>\n",
       "</div>"
      ],
      "text/plain": [
       "ID          Entradas   Luminosidad\n",
       "1        Miguel_Cool           984\n",
       "2     Javier_Gurubel          1024\n",
       "3    Fernando_Suarez             526"
      ]
     },
     "execution_count": 9,
     "metadata": {},
     "output_type": "execute_result"
    }
   ],
   "source": [
    " relation.tail(5)"
   ]
  },
  {
   "cell_type": "markdown",
   "metadata": {},
   "source": [
    "# Uso de gráficos con Seaborn\n",
    "# Gráfica de la relacion"
   ]
  },
  {
   "cell_type": "code",
   "execution_count": 11,
   "metadata": {},
   "outputs": [
     {
     "data": {
      "image/png": "iVBORw0KGgoAAAANSUhEUgAAAZkAAAD5CAYAAAD1JkggAAAAOXRFWHRTb2Z0d2FyZQBNYXRwbG90bGliIHZlcnNpb24zLjMuMiwgaHR0cHM6Ly9tYXRwbG90bGliLm9yZy8vihELAAAACXBIWXMAAAsTAAALEwEAmpwYAAAn9ElEQVR4nO3deXxU5dn/8c8VEsjCDgFJEEE2BUSWiA+KW91AUVAJgmvFpzytivuGPra2/VlQa6titWpF0YosQRSr4IJbtQpG8EGiIshOIqDsayC5fn/MIQZMWJJMziT5vl8vXjNzzzlzvjOczDX3fZ85Y+6OiIhINMSFHUBERKovFRkREYkaFRkREYkaFRkREYkaFRkREYma+LADHEjTpk29devWYccQEalSPv/88x/cPTXsHDFfZFq3bk12dnbYMUREqhQzWxZ2BtBwmYiIRJGKjIiIRI2KjIiIRI2KjIiIRI2KjEgZ5KzJocvjXchZkxN2FJGYpiIjcoi25m/lnPHn8NXarzh3/Llszd8adiSRmKUiI3KIhk0bxpqta3Cc1VtXc/W0q8OOJBKzVGREDsHYuWOZtmAaO3bvAGDH7h289u1rjJ07NuRkIrHJYv33ZDIyMlxfxpRo2l24m407NtIkuQkAL335El+u+ZLczbms2ryKVZtW0bFpR6ZePJXmf27Omq1rfvYYzVKasfrW1ZUdXaRUZva5u2eEnSPmv/EvUlbuzsadG8ndnMu67evo06oPAGNmjWHmkplFBWT11tW0a9yOBdctAODpOU/z7+X/pkXdFqTVS+Po1KPJaBH5Wx11+iiufePaop4MQFJ8EqPPGF35T1CkClCRkSopvyCf3M25kd7GplXkbcljRK8RmBmjPxrN2LljWbV5Fdt2bQMihWDrXVsxMxb8uIDv1n9Her10ujbrSnr9dNo0bFP02K8MeYWUhBRqxdX62XaHdR/Gm9+9udeQWbOUZlzV7arKeeIiVYyKjMSczTs3s3j94qKexp5hqwfOfICGiQ3507//xN3v3v2z9S7vejmNkhrRJKkJPVr0oH+H/qTXSye9fjrp9dJxHMN47JzH9rv9+nXq7/f+seePpdPjnVixcQVNk5vy1uVvlev5ilRnmpORSuPumBl5m/N4f+n7RUVk1eZIIXnqvKfolNqJJ7Of5Nev/3qvdZulNOOjqz6ifZP2fLD0Az5Y9gHp9dJJq5dWVEQaJzXGzCrlueSsyeHirIuZOGginZt1ptALWbJ+CW0bt62U7YsciOZkpNooKCxgzdY1JCck0yCxASs2ruDJz5/ca+J81eZVPD/wec7reB5z8uZwycuXAJCSkFJUJPIL8gE4q+1ZZGVmFRWQw+oeRu1atYu2d0rrUzil9SmhPNc9OjfrzPxr5hfdvnHGjbw0/yXm/s9cWtZvGWIykdiinozs16adm4rmPVrWb0nHph3J25zHtW9cW1RAvt/yPQVewBPnPsGvM37NvNXz6P5k96KJ8z1F5OruV9O9RXc279zMyk0rSa+fTr3a9Sqt9xFN3/zwDcc9fRxdm3fl/SvfJ6FWQtiRpIarMj0ZMxsL9AfWuHuXoK0xMBFoDSwFBrv7+uC+kcDVQAFwvbu/GbT3BJ4DkoA3gBs81itcNbarYBd5W/KKCsiqzavo0KQDfdv1ZWv+Vno81YPczblsyd9StM5dfe7ivtPvIzE+kQU/LiC9Xjqd2nYqGrY65YhI76JLsy7k/29+iRPnAPXq1OPo1KMr5XlWlqOaHsUz5z/DxVkXc/vbt/PXvn8NO5JITDiY4bLngMeA54u13QnMdPfRZnZncPsOM+sEDAE6A2nAO2bWwd0LgCeA4cCnRIpMX2B6RT0R2dtXa79i+cble02cd2jSgZt73wxA0websmnnpr3WufLYK+nbri/JCcn0bNGTfu36FU2cp9VLo2OTjgA0SmpEzjWln7MrzuKg6ndODtngzoP5ePnHPDzrYU44/AQyO2eGHUkkdAcsMu7+oZm13qd5AHBqcH0c8D5wR9A+wd13AkvMbBHQy8yWAvXd/RMAM3seGIiKzCHZVbCraBjmzUVvkrM2Z6+J88MbHM6LF74IwEWTLuKbH74pWrdpclMGdhxYdPuPp/2RpPikogKSXi+96MuIZsb4i8ZX3hOrRh4860Fyt+SSXj897CgiMaGsE//N3T0PwN3zzKxZ0J5OpKeyx8qgbVdwfd/2EpnZcCK9Hlq1alXGiFVHoReyduta1m5bS5dmXQB44f9e4P2l75O75afhrEaJjVh0/SIA/vzJn3ln8Tt7FYrDUg4resy/n/t34uPiSa+fTou6LagTX2evbV5//PWV9wRrkNq1ajM5c3LR7UIvjPTsRGqoij66rKRBEt9Pe4nc/SngKYhM/FdMtHBsyd9SNGSVuzmXS465BDPjic+e4Pl5z5O7OZe8zXnsKtxFnVp12H73dsyMD5Z9wPRF00mrl0abRm3o06oPRzY6suhxnxvwHMkJyTRMbFjixHnYR18JjHxnJCs3r+T5gc9Xi4MbRMqirEVmtZm1CHoxLYA9J3NaCRxebLmWQG7Q3rKE9qjZ93sMFW134W6+3/L9XhPnuZtzue2E22iU1IjHZj/G3e/e/bN5j7PankVqSiqFXkhKQgqntj6VtLo/HYFV6IXUslo8fd7T+31j0nBM7EtOSOaf8/7JCS1P4DfH/SbsOCKhOKhDmIM5mX8VO7rsQeDHYhP/jd39djPrDIwHehGZ+J8JtHf3AjP7DBgBzCIy8T/G3d840LbLcgjz1vytRd/IbtWgFTnX5JBSO+WQHmPd9nVk52bvVURWbV7FqNNH0Sm1E8/MeYb/fu2/91onPi6eOcPncEzzY3hn8TtMWzBtr4nz9HrptG3clvg4fT2pJij0QvqP78/MJTP56KqPOC79uLAjSQ0SK4cwH7DImNlLRCb5mwKrgd8BrwCTgFbAciDT3dcFy98NDAN2Aze6+/SgPYOfDmGeDow4mEOYy1JkLs66uOjcUonxiQzoOIAJgyaQX5BPQWEBSQlJrN6ympfmv7RXAcndnMvDZz/MuR3O5c1Fb9L3xb5Fj9k4qTHp9dJ5sv+T9D68Nwt/XMi7S97dq4CkpqRq/F328uO2H+nxVA8A5gyfU3RwhUi0VZkiE7ZDLTJj547l+unXs3XXT79WaBgpCSls2bWFMf3GcF2v6yI/n/tEF+rUqlM0VJVWL40RvUZwYqsTWb99PfPXzCetXhpp9dJISkiKxtOTGuCzVZ9x5gtnMmHQBPq263vgFUQqgIrMQTrUIlPa730kxidyV5+76Ne+HxlpGUW/IVKZ57uSmmvDjg00TGwYdgypQWKlyFS7sZ1Rp48iJWHv+ZfkhGQeP/dx7jnlHjLSIq95fFw8TZKbqMBIpdhTYF6c9yJvf/d2uGFEKlG1KzLDug/j3A7nkhifCER6MOd1OE+/9yGhyy/IZ/THoxk6ZSgrNq4IO45Ipah2RQYiv/fRLKUZhtE8pTnPnP9M2JFEqF2rNlmZWeQX5JM5ObPorNMi1Vm1LDIptVN445I36JTaidcvef2QD18WiZaOTTsydsBYZq2axW1v3RZ2HJGoq5ZFBn76vY9ofBFTpDwGdRrEjcffyKOzH2VO3pyw44hElb4VKBKCB858gLPankWPFj3CjiISVdW2JyMSyxJqJdCvfT8Avvj+i71+t0ekOlGREQnR6i2rOXHsiQx/bTix/p01kbJQkREJUfO6zbn7pLt5af5LPP7Z42HHEalwKjIiIbuzz53079Cfm968iVkrZ4UdR6RCqciIhCzO4nh+4POk108nc3ImP277MexIIhVGR5eJxIBGSY3Iyszi5a9fpkFig7DjiFQYFRmRGNEzrSc903oCsH3Xdp35W6oFDZeJxJicNTm0H9OeGYtmhB1FpNxUZERiTJtGbWic1JhLX76U5RuXhx1HpFxUZERiTHJCMlmDs9hVsIvMyZns3L0z7EgiZaYiIxKDOjTpwHMDn2P2qtnc8tYtYccRKTMVGZEYdeHRF3JL71tYumEpuwp2hR1HpEx0dJlIDBt9xmjiLI440+dBqZq054rEsPi4eOIsjuUbl3P51MvZvHNz2JFEDol6MiJVwOL1ixn/5Xh2FezipYtewszCjiRyUNSTEakCTm19Kvf94j4m5kzksdmPhR1H5KCpyIhUEbefeDvndTiPW966hU9Xfhp2HJGDoiIjUkXEWRzjBo6jZf2W3PPePWHHETkompMRqUIaJTVixmUzaFG3RdhRRA6KejIiVUyHJh2oV6ce23dt59VvXg07jsh+qciIVFH3f3w/AycOZPrC6WFHESmVioxIFXX7ibfTtXlXLpt6Gcs2LAs7jkiJVGREqqjkhGSmDJ7C7sLdDJo8SCfSlJhUriJjZjeY2XwzyzGzG4O2xmb2tpktDC4bFVt+pJktMrMFZnZ2ObOL1HjtGrfjuQHPkZ2bzciZI8OOI/IzZS4yZtYF+BXQCzgW6G9m7YE7gZnu3h6YGdzGzDoBQ4DOQF/gcTOrVb74InLB0RfwaN9Huea4a8KOIvIz5enJHA186u7b3H038AFwATAAGBcsMw4YGFwfAExw953uvgRYRKRAiUg5jTh+BO0at8Pd+WHbD2HHESlSniIzHzjZzJqYWTJwDnA40Nzd8wCCy2bB8unAimLrrwzaRKSCjJg+gj5j++hEmhIzylxk3P1r4H7gbWAG8H/A7v2sUtIZ/bzEBc2Gm1m2mWWvXbu2rBFFapzMTpksWreIq6ddjXuJf14ilapcE//u/oy793D3k4F1wEJgtZm1AAgu1wSLryTS09mjJZBbyuM+5e4Z7p6RmppanogiNcoprU/hT6f/iclfTebRWY+GHUek3EeXNQsuWwEXAi8B04Arg0WuBPZ8JXkaMMTM6phZG6A9MLs82xeRn7vthNsY0HEAt759Kx8v/zjsOFLDlffcZVPMrAmwC7jW3deb2WhgkpldDSwHMgHcPcfMJgFfERlWu9bdC8q5fRHZh5nx3MDn6PdiP3YW6LszEi6L9XHbjIwMz87ODjuGSJXj7vpxsxrMzD5394ywc+gb/yLVlJnh7tz34X387r3fhR1HaigVGZFqzMxYvH4xf/jwD7z+7ethx5EaSEVGpJp77JzH6HZYNy6fejlLNywNO47UMCoyItVcUkISWZlZFHohgybpRJpSuVRkRGqAto3bMm7gOOatnse/l/877DhSg+jnl0VqiAFHDWDR9Yto1aBV2FGkBlFPRqQG2VNgXlvwGl+u/jLkNFITqCcjUsNs27WNX7/+a1ISUsgenk39OvXDjiTVmHoyIjVMckIyEy6awOL1ixn26jCdSFOiSkVGpAY66YiTGH3GaKZ8PYWHP3047DhSjanIiNRQt/S+hQuOuoDb3r6NBT8sCDuOVFOakxGpocyMZwc8y7QF0+jQpEPYcaSaUk9GpAZrkNiAy4+9HDPju3Xfsbtwf787KHLoVGREhGUblnHs34/lt+/9NuwoUs2oyIgIRzQ8gqFdhjLqo1G8tuC1sONINaIiIyIAjDlnDN0P684Vr1zB4vWLw44j1YSKjIgAkBifSNbgLAAGTRrEjt07Qk4k1YGKjIgUObLRkbxwwQv0btkbQ7+qKeWnQ5hFZC/9O/Snf4f+ABR6IXGmz6JSdtp7RKREX639iq5PdGXe6nlhR5EqTEVGRErUJKkJ67av46JJF7Fxx8aw40gVpSIjIiVqXrc5kzInsWT9EoZN04k0pWxUZESkVH1a9eGBMx/g5a9f5i+f/CXsOFIFqciIyH7d9F83cdHRFzF90XQKvTDsOFLF6OgyEdkvM2PcwHHUia+jI83kkGmPEZEDSqmdQnxcPGu2ruHOd+7UiTTloKknIyIH7d0l73L/x/cDMPqM0SGnkapAPRkROWhDugxheI/h3P/x/UxbMC3sOFIFqMiIyCF5pN8j9GjRgyumXsF3674LO47EOBUZETkkifGJZGVmEWdx3PzWzWHHkRinORkROWRtGrXh9Ute1882ywGVqydjZjeZWY6ZzTezl8ws0cwam9nbZrYwuGxUbPmRZrbIzBaY2dnljy8iYel9eG+aJDchvyCfT1d+GnYciVFlLjJmlg5cD2S4exegFjAEuBOY6e7tgZnBbcysU3B/Z6Av8LiZ1SpffBEJ28h3RnLauNP44vsvwo4iMai8czLxQJKZxQPJQC4wABgX3D8OGBhcHwBMcPed7r4EWAT0Kuf2RSRkd/S5gyZJTRg0aRAbdmwIO47EmDIXGXdfBfwZWA7kARvd/S2gubvnBcvkAc2CVdKBFcUeYmXQ9jNmNtzMss0se+3atWWNKCKVoFlKMyZlTmLZxmX88pVf6kSaspfyDJc1ItI7aQOkASlmdtn+VimhrcS90d2fcvcMd89ITU0ta0QRqSQnHH4CD575IK8ueJWHPnko7DgSQ8pzdNkZwBJ3XwtgZi8DJwCrzayFu+eZWQtgTbD8SuDwYuu3JDK8JiLVwA3H38CqTas4u62O6ZGflGdOZjnwX2aWbGYGnA58DUwDrgyWuRJ4Nbg+DRhiZnXMrA3QHphdju2LSAwxMx4860GOaX4MANt3bQ85kcSCMvdk3H2WmWUBc4DdwFzgKaAuMMnMriZSiDKD5XPMbBLwVbD8te5eUM78IhKDbph+A1+s/oKZV8wkPk5fx6vJynV0mbv/zt2Pcvcu7n55cOTYj+5+uru3Dy7XFVv+Pndv6+4d3X16+eOLSCzqld6LD5d9yF0z7wo7ioRMp5URkQp3addL+U3Gb3jwPw/yyjevhB1HQqQiIyJR8dez/0pGWgZXvnIli9YtCjuOhERFRkSiok58HSZnTqZxUmMWr18cdhwJiWbkRCRqWjdszbfXfUtCrYSwo0hI1JMRkahKqJWAuzNm1hienfts2HGkkqknIyJRV+iFvPbta3y47EO6HdaN7i26hx1JKol6MiISdbXiavHihS+SmpLKoMk6kWZNoiIjIpUiNSWVSYMmsXzjcq6YegWFXhh2JKkEKjIiUml6H96bh856iH99+y/+s+I/YceRSqA5GRGpVCN6jaBPqz70aNEj7ChSCdSTEZFKZWZFBea9Je+Ru1knY6/OVGREJBQbdmxg4MSBXJx1MbsKdoUdR6JERUZEQtEwsSF/P/fvfLT8I0bOHBl2HIkSFRkRCc3QY4Zy7XHX8tAnD/Hy1y+HHUeiQEVGREL10FkP0Su9F7985Zes2Lgi7DhSwXR0mYiEas+JNKd+PZWW9VuGHUcqmHoyIhK6Vg1accN/3YCZsXbrWtw97EhSQVRkRCRmfPPDN3R4rAP/mPOPsKNIBVGREZGY0b5xe3ql92LE9BHMyZsTdhypACoyIhIz9pxIs1lKMy6adBHrt68PO5KUk4qMiMSUpslNmZw5mVWbVnHFKzqRZlWnIiMiMef4lsfzl7P/QoM6DcgvyA87jpSDxfpRHBkZGZ6dnR12DBGpZHvem8ws5CRVk5l97u4ZYedQT0ZEYpKZYWYs+GEBp407jVWbVoUdScpARUZEYlqhF/LZqs8YnDVYJ9KsglRkRCSmHZ16NP84/x/8Z8V/uP3t28OOI4dIRUZEYt6QLkO47rjreHjWw0zOmRx2HDkEKjIiUiU8dPZDHJ9+PE9kP6HTzlQhOkGmiFQJtWvV5tUhr9IgsYGOOKtC1JMRkSqjed3mJMYnsmHHBsbMGqMeTRWgIiMiVc5zXzzH9TOu58nPnww7ihxAmYuMmXU0sy+K/dtkZjeaWWMze9vMFgaXjYqtM9LMFpnZAjM7u2KegojUNNcffz192/Xlhhk3kJ2rL2vHsjIXGXdf4O7d3L0b0BPYBkwF7gRmunt7YGZwGzPrBAwBOgN9gcfNrFb54otITRRncfzzgn9yWN3DGDRpED9u+zHsSFKKihouOx34zt2XAQOAcUH7OGBgcH0AMMHdd7r7EmAR0KuCti8iNUyT5CZkZWaRtyWPm968Kew4UoqKOrpsCPBScL25u+cBuHuemTUL2tOBT4utszJo+xkzGw4MB2jVqlUFRRSR6ua49OOYOGgivdL1eTVWlbsnY2a1gfOBA31DqqRjDks8NMTdn3L3DHfPSE1NLW9EEanGBh41kLR6aRQUFrDwx4Vhx5F9VMRwWT9gjruvDm6vNrMWAMHlmqB9JXB4sfVaArkVsH0REW6YcQMnjD2BlZtWhh1FiqmIIjOUn4bKAKYBVwbXrwReLdY+xMzqmFkboD0wuwK2LyLCiF4j2LF7B4MnD9Zv0MSQchUZM0sGzgReLtY8GjjTzBYG940GcPccYBLwFTADuNbdC8qzfRGRPTo27cjY88fyycpPdCLNGKIfLRORauXGGTfyyKxHmDhoIoM7Dw47Tmhi5UfLdO4yEalWHjjzAfK25NGqgY5MjQUqMiJSrdSuVZuJgyYW3S70QuJMZ9AKi155Eam2bnvrNi6ferlOpBkiFRkRqbYaJDZg/JfjeSL7ibCj1FgqMiJSbd110l2c0/4cbpxxI7NX6RsTYVCREZFqK87ieOGCF0irl0bm5EydSDMEKjIiUq01TmpM1uAsNu3cxOd5n4cdp8bR0WUiUu1lpGWw9IalNEhsEHaUGkc9GRGpEfYUmHFfjOPt794OOU3NoSIjIjVGfkE+f/7kzwydMpQVG1eEHadGUJERkRqjdq3aTBk8hfyCfDInZ+pEmpVARUZEapQOTTowdsBYZq2axa1v3Rp2nGpPRUZEapxBnQZx83/dzJjZY5ibNzfsONWaji4TkRpp9BmjObvd2XRv0T3sKNWaejIiUiMl1ErgrLZnAfB57udsyd8ScqLqSUVGRGq077d8T59n+/Cr136lE2lGgYqMiNRoh9U9jHtOvocJ8yfwt8/+FnacakdFRkRqvDv73En/Dv25+c2b+XTlp2HHqVZUZESkxouzOJ4f+Dzp9dMZPHkw67avCztStaGjy0REgEZJjcjKzGLagmk0qKNznFUUFRkRkUDPtJ70TOsJwLZd20hOSA45UdWn4TIRkX3MXzOfdo+2Y8aiGWFHqfJUZERE9nFkoyNJTUnl0pcvZdmGZWHHqdJUZERE9pGckExWZha7C3eTOTmTnbt3hh2pylKREREpQfsm7XluwHN8lvsZN795c9hxqiwVGRGRUlxw9AXc2vtWVm5eya6CXWHHqZJ0dJmIyH6MOmMUcRZHnOkzeVnoVRMR2Y/4uHjiLI6lG5ZyyZRL2Lxzc9iRqhT1ZEREDsLSDUuZmDORAi9gwkUTMLOwI1UJ6smIiByEU1ufyn2/uI9JOZMYM3tM2HGqjHIVGTNraGZZZvaNmX1tZr3NrLGZvW1mC4PLRsWWH2lmi8xsgZmdXf74IiKV5/YTb+e8Dudxy1u38MmKT8KOUyWUtyfzCDDD3Y8CjgW+Bu4EZrp7e2BmcBsz6wQMAToDfYHHzaxWObcvIlJp4iyOcQPH0apBK+794N6w41QJZZ6TMbP6wMnALwHcPR/IN7MBwKnBYuOA94E7gAHABHffCSwxs0VAL0AfB0SkymiU1IgZl86gRb0WYUepEsrTkzkSWAs8a2ZzzewfZpYCNHf3PIDgslmwfDqwotj6K4M2EZEqpX2T9tStXZet+VuZ+vXUsOPEtPIUmXigB/CEu3cHthIMjZWipEMxSvytUzMbbmbZZpa9du3ackQUEYmeBz5+gAsnXcj0hdPDjhKzylNkVgIr3X1WcDuLSNFZbWYtAILLNcWWP7zY+i2B3JIe2N2fcvcMd89ITU0tR0QRkei5s8+dHNv8WC6beplOpFmKMhcZd/8eWGFmHYOm04GvgGnAlUHblcCrwfVpwBAzq2NmbYD2wOyybl9EJGxJCUlkDY6cSHPQ5EE6kWYJynt02QjgRTObB3QD/gSMBs40s4XAmcFt3D0HmESkEM0ArnX3gnJuX0QkVO0at2PcwHFk52Zz18y7wo4Tc8y9xGmRmJGRkeHZ2dlhxxAR2a+/zf4b/dr348hGR4YdBQAz+9zdM8LOodPKiIhUgGt7XQuAu7N221qapTQ7wBo1g04rIyJSga55/RpOevYkNu3cFHaUmKAiIyJSgYYeM5Tv1n3HsFeHEevTEZVBRUZEpAKdfMTJjDp9FFO+nsLDnz4cdpzQqciIiFSwW0+4lYFHDeT2d27n4+Ufhx0nVCoyIiIVzMx4dsCz9Ervxa7Cmv2zzTq6TEQkChomNuSjqz6q8T9upp6MiEiUmBnuzr3v38tv3/tt2HFCoSIjIhJFZsbKTSv544d/5PVvXw87TqVTkRERibIx/cbQ7bBuXD71cpasXxJ2nEqlIiMiEmVJCUlMGTyFQi9k0ORB7Ni9I+xIlUZFRkSkEhzZ6Eiev+B55q+Zz39W/CfsOJVGR5eJiFSS8zuez3fXf0fL+i3DjlJp1JMREalEewrM1K+nMm/1vJDTRJ96MiIilWxr/laum34dKQkpfParz2iQ2CDsSFGjnoyISCVLqZ3ChIsmsHj9YoZNq94n0lSREREJwUlHnMT9Z9zPy1+/zF8++UvYcaJGRUZEJCQ3976ZC466gDveuYNvf/w27DhRoTkZEZGQ7DmR5hsL36BDkw5hx4kK9WRERELUILEBQ48ZCsC3P37L7sLdISeqWCoyIiIxYMn6JXT7ezfuefcectbk0OXxLuSsyQk7VrmpyIiIxIA2jdpwWdfLGP3xaE4bdxpfrf2Kc8efy9b8rWFHKxcVGRGRGPFov0dpmNiQtdvW4jirt67m6mlXhx2rXFRkRERixPgvx7Nz986i2zt27+C1b19j7NyxIaYqHxUZEZEYMXLmSLbv3r5X27Zd2xg5c2RIicpPRUZEJEaMOn0UKQkpe7UlJyQz+ozRISUqPxUZEZEYMaz7MM7tcC6J8YkAJMYncl6H87iq21UhJys7FRkRkRgy9vyxNEtphmE0T2nOM+c/E3akclGRERGJISm1U3jjkjfolNqJ1y95nZTaKQdeKYbptDIiIjGmc7POzL9mftgxKoR6MiIiEjUqMiIiEjUqMiIiEjUqMiIiEjUW6z/7aWZrgWVlXL0p8EMFxhEpTvuXRFN5968j3D21osKUVcwXmfIws2x3zwg7h1RP2r8kmqrL/qXhMhERiRoVGRERiZrqXmSeCjuAVGvavySaqsX+Va3nZEREJFzVvScjIiIhUpEREZGoUZEREZGoqbQiY2ZuZi8Uux1vZmvN7F/B7fPN7M4obPc5Mxu0n/sTzGy0mS00s/lmNtvM+pVxW0vNrGnZ08qBmNmWMqyTZmZZFbT95mY23swWm9nnZvaJmV1QEY8dPP69ZnbrIa5zyK9JTWdmBWb2RbF/rWMg06l73g8Pcb3mZvYvM/s/M/vKzN6IRr6yqsxT/W8FuphZkrtvB84EVu25092nAdMqMc8efwRaAF3cfaeZNQdOCSGHRIm75wKlftDYl5nVcveCEtoNeAUY5+6XBG1HAOcfSp7SHl8q1XZ373aoK5lZvLvvjkKe8vgD8La7PwJgZl0r4kEr6rlW9nDZdODc4PpQ4KU9d5jZL83sseB6WzP71Mw+M7M/7Pmktm+lN7PHzOyXwfWeZvZB8OnyTTNrcaAwZpYM/AoY4e47Adx9tbtPCu4famZfBj2c+4utV2K7VA4zq2tmM81sTvD/MCBov9/Mrim23L1mdouZtTaz+UFbLTN7MNi35pnZ/wTtp5rZe2Y2HviylE3/Ash397/vaXD3Ze4+JniMon04uP0vMzs1uL4l2JdnAb2L93rNLMPM3i+2nWPN7N2gd/2rYo93W7Hcvy/7KyglKe09xMzeN7M/mdkHwA3B7fuDUY9vzeykYLnWZvbvYL+cY2YnBO2nButkmdk3ZvZi8IEFM+sbtH0EXFgsS2MzeyX4v/70AIWjBbByzw13n1dsu6W9X/422Jfmm9lTxfLs+1x/9ppYZGSgeC+wIPiwVaLKLjITgCFmlgh0BWaVstwjwCPufhyQe6AHNbMEYAwwyN17AmOB+w4iTztgubtvKuEx04D7ibyxdAOOM7OBpbUfxLak4uwALnD3HsBpwEPBH8kE4OJiyw0GJu+z7tXAxmDfOg74lZm1Ce7rBdzt7p1K2W5nYE4ZM6cA8939eHf/6ADLdiXyYaw38Nvgj/osoH2QsRvQ08xOLmMWgaRib5JTD+I9pKG7n+LuDwW34929F3Aj8LugbQ1wZrBfXgw8Wmz97sGynYAjgROD98GngfOAk4DDii3/e2Cuu3cF7gKe389z+RvwTPAh6e7gPepAHnP349y9C5AE9N/3uQb5f/aauHuuu3cLeoJPA1PcvdTzS1bqL2O6+zyLjH0OBfY3btgbGBhcHw/8+QAP3RHoArwdFORaQF55shJ5A3rf3dcCmNmLwMmAl9L+Sjm3JwfPgD8Fb7KFQDrQ3N3nmlmz4I8sFVjv7stt7/H2s4Cu9tM8XQMib975wGx3X3LQIcz+BvQh0rs57gCLFwBTDvKhXw2GlLeb2XtECkufIPvcYJm6Qe4PDzav7GWv4TIz68L+30Mm7rP+y8Hl50Dr4HoC8JiZdSPy/92h2PKz3X1lsK0vgnW2AEvcfWHQ/k9geLB8H+AiAHd/18yamFkDd9+47xNx9zfN7EigL9APmBs8n/05zcxuB5KBxkAO8No+z3W/76tmdiLw30QKZKnC+PnlaUSKxqlAk0Ncdzd7974Sg0sDcty99yE+3iKglZnVc/fN+9xnpaxTWrtUnkuJFJGe7r7LzJby076QRWT+5TAiPZt9GZHh0Tf3aowMa209wHZzCP7wAdz92mDIKztoKm3/BNixzzxM8WWLLweRDzL73jZglLs/eYCMUjYHeg/Zd9/YGVwW8NP76E3AauBYIv+3O0pYft91Svs2fEnvM6V+c97d1xH5QD4+GCI7Ocjys/0x6EE9DmS4+wozu5e998E9z7XU1yQYSnwGON/d93vgSRiHMI8F/uDupY17A3zKT3/MQ4q1LwM6mVkdM2sAnB60LwBSzaw3FB0x1vlAQdx9G5EX6lEzqx2s28LMLiMylHeKmTU1s1pEel8f7KddKk8DYE1QYE4Dio8HTyCyzwwiUnD29Sbwm2B4BDPrYGYpB7ndd4FEM/tNsbbkYteXAt3MLM7MDifSAynNUqBncP2ife4bYGaJZtaEyIexz4Lcw8ysbpA73cyaHWRuObAyvYfsowGQ5+6FwOVEPvnvzzdAGzNrG9weWuy+D4l8mNrzAeiHkob1g/t/YZH5ZcysHtAWWE7p75d7CsoPwf5U2kExJb4mwd/OJOAOd//2AM+x8nsyQZfxkQMsdiPwTzO7BXgd2Bisu8LMJgHzgIUEQwfunh8MfzwavJjxwMNEPnkeyP8C/w/4ysx2EKniv3X3PDMbCbxHpKK/4e6vApTWLtFlZvFEPhG+CLxmZtnAF0T+WAFw95zgD22Vu5c0ZPoPIkMVc4J5nLX8NDS7X+7uwfzbX4OhhrVE9pc7gkU+BpYQOXBgPvufv/k9kXH0u/j53ORsIvt9K+CPwdFxuWZ2NPBJMHSxBbiMyDyAlFM530P2eByYYmaZRN4f9tszdvcdZjYceN3MfgA+IjI8BXAv8KyZzQO2AVfu56F6Ehmm29M7/oe7fwZQyvvlBjN7msh+upTIh5iS8pX2mjQlMp3we/vpAJRzgv30Z2Ly3GVBVd4e/FEPAYa6+4Cwc0m4zOxY4OlgwlVEqoAw5mQOxp7KbMAGYFi4cSRsZvZr4HoivVwRqSJisicTDWY2FWizT/Md+04AiwRzITNLuOt0d/+xsvOIAJjZVcAN+zR/7O7XhpHnYNWYIiMiIpVPJ8gUEZGoUZEREZGoUZEREZGoUZEREZGo+f9O0OSkmI9fvAAAAABJRU5ErkJggg==\n",
      "text/plain": [
       "<Figure size 540x540 with 12 Axes>"
      ]
     },
     "metadata": {
      "needs_background": "light"
     },
     "output_type": "display_data"
    }
   ],
   "source": [
    "sns.pairplot(relation, kind='reg')\n",
    "plt.show()"
   ]
  },
  {
   "cell_type": "markdown",
   "metadata": {},
   "source": [
    "# Gráfica de temperatura"
   ]
  },
  {
   "cell_type": "code",
   "execution_count": 13,
   "metadata": {
    "scrolled": true
   },
   "outputs": [
    {
     "data": {
      "image/png": "iVBORw0KGgoAAAANSUhEUgAAAYgAAAEkCAYAAAA1naazAAAAOXRFWHRTb2Z0d2FyZQBNYXRwbG90bGliIHZlcnNpb24zLjMuMiwgaHR0cHM6Ly9tYXRwbG90bGliLm9yZy8vihELAAAACXBIWXMAAAsTAAALEwEAmpwYAAAf70lEQVR4nO3de7xVdZ3/8dc70LyhqBzvImrkhI4wipSjFWYZkkXNWEFjeSnpopPOWEnZmHa1afyViukPLznmLcs0S0od8xKNN0BE8JKkGAgJeAHxkmGf+WN9Nyw2373P5nD23nDO+/l47MdZ+/v9rrU+a6199mev71r7uxURmJmZVXtDuwMwM7P1kxOEmZllOUGYmVmWE4SZmWU5QZiZWZYThJmZZTlB2DqTNFLS/BasZ66kdzd7PWurOi5JJ0m6vhuWe4akK7ojpp5E0mxJI9sdR2/gBLEBSv/8r0haXnpMbHDeOyR9qtkx9laSBgPHAce0OZQeKyL2jog72h1Hb9C33QFYl70/Iv6nuxcqqW9ErOju5fYibwHGRcTSdgfS0/i12Xo+g+hhJB0jaYqk/5L0vKQnJR2e6r4FvB2YWD7rkBSSTpD0OPB4KjtH0jxJyyRNk/T20jo2lXRZWv7DwAFVMUyQ9EdJL0p6WNKHSnVvknSnpKWSlkj6SZ1t+bikpyQ9K+m0qro3lNbzrKRrJW1Tb59UlYWkN6XpyySdL+mmFPO9kvbsSlzAfsBXSm1/KunPaXvvkrR3neXunvbNi5JuBQZU1b9N0v9KekHSg412s0h6o6QfSFqQHj+Q9MZUN0DSr9Iyn5P0O0lrvC9IGpT2Wd9S2cqz0VrHtYH59pT027Qvl0i6UlL/Utu5kk6VNBN4SVJflbrPumPbrDbvrJ7prcBjFG8w/wlcIkkRcRrwO+DEiNgiIk4szfPBNN+Q9Px+YBiwDXAV8FNJm6S6rwF7psd7gaOr1v9HikS0FXAmcIWkHVPdN4BbgK2BXYDzchsgaQhwAfBxYCdg29S+4vMp5nem+ueB8+vulfrGpVi3BuYA3+piXNV+DQwGtgOmA1fWaXsVMI3iuH2D0n6VtDNwE/BNimPyBeA6SR2dbxqnAW+jOJ5DgRHAV1PdKcB8oAPYniK5dWX8nYaOa4aA71Dsy7cAuwJnVLUZB7wP6J85g2jFtvVeEeHHBvYA5gLLgRdKj+NT3THAnFLbzSj+KXZIz+8APlW1vADe1ck6nweGpukngFGluvHA/DrzzgDGpOnLgUnALp2s73TgmtLzzYHXgHen548Ah5bqdwT+CvTNLOsYYEpmm9+Upi8DLi7VjQYe7WJcZwBX1Ji3f1rvVpm6gcAKYPNS2VWVZQGnAj+umudm4Og6r5FKTH8ERpfq3gvMTdNfB35R2Rd1jsegFHvfUtnK11Kt49rZfJn1fBB4oGo7jmvmtvlR++EziA3XByOif+lxUanuz5WJiHg5TW7RyfLmlZ9IOkXSI6nL4AWKs4FKl8dOVe2fqpr3E5JmpFP7F4B9SvN+ieJT430q7kY5rkY8q60jIl4Cni3V7wZcX1rHI8DrFJ8Uu+LPpemXqb2/OotrJUl9JJ2VusGWUbyxQVXXUWm5z6flVZT3627Ahyvbm7b5YIrE2Jmdqpb1VCoD+B7FGdMtkp6QNKGB5eU0elxXI2k7SddIejrtoytYc//My8xa0Ypt67WcIHqfWqfYK8tVXG84FfgIsHVE9AeWUrwBACyk6AqoGFiadzfgIuBEYNs076zKvBHx54g4PiJ2Aj4N/LByLaDKauuQtBlFd07FPODwqiS5SUQ8nVnWSxRnUpVl7VBjHzSis7jKPgaMAd5NkWAHVWarsdytJW1eKhtYmp5HcQZR3t7NI+KsBmJeQJFgystdABARL0bEKRGxB/B+4N8lHZpZRiVxbVYqW7kf6xzXuvNRdC8FsG9EbAkcxZr7p163UHdsm9XgBNH7PAPs0UmbfhTdHYuBvpJOB7Ys1V8LfFnS1pJ2Af61VLc5xT/0YgBJx1KcQZCefzjNA0W3VVB88q/2M+AISQdL2piiu6D8er0Q+FZKSEjqkDSmxvY8COwtaVi6jnJGJ9tfT2dxlfUD/kJxhrEZ8O1aC42Ip4CpwJmSNpZ0MMWbWsUVwPslvTedmWyi4vsn9a5/VFwNfDXtowEU3WRXAEg6Il1gFrCM4liscTwiYjHwNHBUWv9xFNegSMvJHtfO5kv7aDnwQrrO8sUGtqdbt81qc4LYcP1Sq38PotEvZp0DHKniDqRza7S5meLi6h8oTtlfZfXT/DNT+ZMUFyZ/XKmIiIeBs4G7KZLR3wO/L817AHCvpOXAjcBJEfFkdQARMRs4gaIffiHFm075y3jnpPlvkfQicA/FRfY1RMQfKN7I/4fiLq0puXaNaCCusssp9tPTwMMpxno+RrENz1HcCHB5ab3zKM5GvkKRfOdRvJk28j/8TYrkMxN4iOJi+TdT3WCK/bKc4pj9MGp/x+D4tM5ngb2B/y3V1Tuu9eY7k+LOr6UUF+F/3sD2NGPbLEPpYo6ZmdlqfAZhZmZZThBmZpblBGFmZllOEGZmluUEYWZmWU4QZmaW5QRhZmZZThBmZpblBGFmZllOEGZmluUEYWZmWU4QZmaW5QRhZmZZThBmZpblBGFmZllOEGZmluUEYWZmWX3bHUB3GjBgQAwaNKjdYZiZbTCmTZu2JCI6cnU9KkEMGjSIqVOntjsMM7MNhqSnatW5i8nMzLKcIMzMLMsJwszMspwgzMwsywnCzMyynCDMzCzLCcLMzLKcIMzMLMsJwszMsnrUN6nNbP01aMJN7Q6hx5p71vuaslyfQZiZWVbTziAkXQocASyKiH1S2U+AvVKT/sALETEsM+9c4EXgdWBFRAxvVpxmZpbXzC6my4CJwOWVgoj4aGVa0tnA0jrzHxIRS5oWnZmZ1dW0BBERd0kalKuTJOAjwLuatX4zM1s37boG8XbgmYh4vEZ9ALdImiZpfAvjMjOzpF13MY0Drq5Tf1BELJC0HXCrpEcj4q5cw5RAxgMMHDiw+yM1M+ulWn4GIakv8E/AT2q1iYgF6e8i4HpgRJ22kyJieEQM7+jI/iiSmZl1QTu6mN4NPBoR83OVkjaX1K8yDRwGzGphfGZmRhMThKSrgbuBvSTNl/TJVDWWqu4lSTtJmpyebg9MkfQgcB9wU0T8pllxmplZXjPvYhpXo/yYTNkCYHSafgIY2qy4zMysMf4mtZmZZTlBmJlZlhOEmZllOUGYmVmWE4SZmWU5QZiZWZYThJmZZTlBmJlZlhOEmZllOUGYmVmWE4SZmWU5QZiZWZYThJmZZTlBmJlZlhOEmZllOUGYmVmWE4SZmWU5QZiZWZYThJmZZTlBmJlZVtMShKRLJS2SNKtUdoakpyXNSI/RNeYdJekxSXMkTWhWjGZmVlszzyAuA0Zlyr8fEcPSY3J1paQ+wPnA4cAQYJykIU2M08zMMpqWICLiLuC5Lsw6ApgTEU9ExGvANcCYbg3OzMw61Y5rECdKmpm6oLbO1O8MzCs9n5/KsiSNlzRV0tTFixd3d6xmZr1WqxPEBcCewDBgIXB2po0yZVFrgRExKSKGR8Twjo6ObgnSzMxanCAi4pmIeD0i/gZcRNGdVG0+sGvp+S7AglbEZ2Zmq7Q0QUjasfT0Q8CsTLP7gcGSdpe0MTAWuLEV8ZmZ2Sp9m7VgSVcDI4EBkuYDXwNGShpG0WU0F/h0arsTcHFEjI6IFZJOBG4G+gCXRsTsZsVpZmZ5TUsQETEuU3xJjbYLgNGl55OBNW6BNTOz1vE3qc3MLMsJwszMspwgzMwsywnCzMyynCDMzCzLCcLMzLKcIMzMLMsJwszMspwgzMwsywnCzMyynCDMzCzLCcLMzLKcIMzMLMsJwszMspwgzMwsywnCzMyynCDMzCzLCcLMzLKcIMzMLMsJwszMspqWICRdKmmRpFmlsu9JelTSTEnXS+pfY965kh6SNEPS1GbFaGZmtTXzDOIyYFRV2a3APhGxL/AH4Mt15j8kIoZFxPAmxWdmZnU0LUFExF3Ac1Vlt0TEivT0HmCXZq3fzMzWTTuvQRwH/LpGXQC3SJomaXy9hUgaL2mqpKmLFy/u9iDNzHqrtiQISacBK4ArazQ5KCL2Aw4HTpD0jlrLiohJETE8IoZ3dHQ0IVozs96p5QlC0tHAEcC/RETk2kTEgvR3EXA9MKJ1EZqZGbQ4QUgaBZwKfCAiXq7RZnNJ/SrTwGHArFxbMzNrnmbe5no1cDewl6T5kj4JTAT6AbemW1gvTG13kjQ5zbo9MEXSg8B9wE0R8ZtmxWlmZnl9m7XgiBiXKb6kRtsFwOg0/QQwtFlxmZlZY5qWIDY0gybc1O4Qeqy5Z72v3SGYWRd4qA0zM8tygjAzsywnCDMzy3KCMDOzLCcIMzPLcoIwM7MsJwgzM8tygjAzsywnCDMzy2ooQUj6T0lbStpI0m2Slkg6qtnBmZlZ+zR6BnFYRCyjGKZ7PvBm4ItNi8rMzNqu0QSxUfo7Grg6Ip6r19jMzDZ8jQ7W90tJjwKvAJ+T1AG82rywzMys3Ro6g4iICcCBwPCI+CvwEjCmmYGZmVl7rc1w3zsD75G0Sans8m6Ox8zM1hMNJQhJXwNGAkOAycDhwBScIMzMeqxGL1IfCRwK/DkijqX4xbc3Ni0qMzNru0YTxCsR8TdghaQtgUXAHs0Ly8zM2q3RBDFVUn/gImAaMB24r94Mki6VtEjSrFLZNpJulfR4+rt1jXlHSXpM0hxJExqM0czMulGjdzF9LiJeiIgLgfcAR6eupnouA0ZVlU0AbouIwcBt6flqJPUBzqe4zjEEGCdpSCNxmplZ96l7kVrSfvXqImJ6rfqIuEvSoKriMRQXuwH+G7gDOLWqzQhgTkQ8kdZzTZrv4XqxmplZ9+rsLqaz099NgOHAg4CAfYF7gYPXcn3bR8RCgIhYKGm7TJudgXml5/OBt67leszMbB3VTRARcQis/BQ/PiIeSs/3Ab7QpJiUC6VmY2k8MB5g4MCBTQrJ1jeDJtzU7hB6rLlnva/dIdh6otGL1H9XSQ4AETELGNaF9T0jaUeA9HdRps18YNfS812ABbUWGBGTImJ4RAzv6OjoQkhmZpbTaIJ4RNLFkkZKeqeki4BHurC+G4Gj0/TRwC8ybe4HBkvaXdLGwNg0n5mZtVCjCeJYYDZwEnAyxQXjuncxSboauBvYS9J8SZ8EzqIYruNxiruhzkptd5I0GSAiVgAnAjdTJKFrI2L2Wm6XmZmto4aG2oiIV4Hvp0dDImJcjapDM20XUAwlXnk+mWJIDzMza5NGx2IaDHyH4nsJKwfriwh/m9rMrIdqtIvpR8AFwArgEIpB+n7crKDMzKz9Gk0Qm0bEbYAi4qmIOAN4V/PCMjOzdmv09yBelfQG4HFJJwJPA7kvuZmZWQ/R6BnEycBmwOeB/YGjWHW7qpmZ9UCdnkGkwfM+EhFfBJbTye2tZmbWM3R6BhERrwP7S8oNgWFmZj1Uo9cgHgB+IemnwEuVwoj4eVOiMjOztms0QWwDPMvqdy4F4ARhZtZDNZogLo6I35cLJB3UhHjMzGw90ehdTOc1WGZmZj1EZ78odyDwj0CHpH8vVW0J9GlmYGZm1l6ddTFtDGyR2vUrlS8DjmxWUGZm1n6d/aLcncCdki6LiKdaFJOZma0HGr1I/UZJk4BB5XkiwuMxmZn1UI0miJ8CFwIXA683LxwzM1tfNJogVkTEBU2NxMzM1iuN3ub6S0mfk7SjpG0qj6ZGZmZmbdXoGURl5NYvlsoC8C/KmZn1UI3+JvXuzQ7EzMzWL3W7mCR9qTT94aq6b3dlhZL2kjSj9Fgm6eSqNiMlLS21Ob0r6zIzs67r7BrE2NL0l6vqRnVlhRHxWEQMi4hhFD8+9DJwfabp7yrtIuLrXVmXmZl1XWcJQjWmc8+74lDgj/4SnpnZ+qezBBE1pnPPu2IscHWNugMlPSjp15L27oZ1mZnZWujsIvVQScsozhY2TdOk55usy4olbQx8gDW7rgCmA7tFxHJJo4EbgME1ljMeGA8wcODAdQnJzMxK6p5BRESfiNgyIvpFRN80XXm+0Tqu+3BgekQ8k1nvsohYnqYnAxtJGlAjxkkRMTwihnd0dKxjSGZmVtHoF+WaYRw1upck7VD5DWxJIyjifLaFsZmZ9XqNflGuW0naDHgP8OlS2WcAIuJCiqHEPytpBfAKMDYiuuOah5mZNagtCSIiXga2rSq7sDQ9EZjY6rjMzGyVdnYxmZnZeswJwszMspwgzMwsywnCzMyynCDMzCzLCcLMzLKcIMzMLMsJwszMspwgzMwsywnCzMyynCDMzCzLCcLMzLKcIMzMLMsJwszMspwgzMwsywnCzMyynCDMzCzLCcLMzLKcIMzMLMsJwszMstqSICTNlfSQpBmSpmbqJelcSXMkzZS0XzviNDPrzfq2cd2HRMSSGnWHA4PT463ABemvmZm1yPraxTQGuDwK9wD9Je3Y7qDMzHqTdiWIAG6RNE3S+Ez9zsC80vP5qWwNksZLmipp6uLFi5sQqplZ79SuBHFQROxH0ZV0gqR3VNUrM0/kFhQRkyJieEQM7+jo6O44zcx6rbYkiIhYkP4uAq4HRlQ1mQ/sWnq+C7CgNdGZmRm0IUFI2lxSv8o0cBgwq6rZjcAn0t1MbwOWRsTCFodqZtarteMupu2B6yVV1n9VRPxG0mcAIuJCYDIwGpgDvAwc24Y4zcx6tZYniIh4AhiaKb+wNB3ACa2My8zMVre+3uZqZmZt5gRhZmZZThBmZpblBGFmZllOEGZmluUEYWZmWU4QZmaW5QRhZmZZThBmZpblBGFmZllOEGZmluUEYWZmWU4QZmaW5QRhZmZZThBmZpblBGFmZllOEGZmluUEYWZmWU4QZmaW5QRhZmZZLU8QknaVdLukRyTNlnRSps1ISUslzUiP01sdp5lZb9e3DetcAZwSEdMl9QOmSbo1Ih6uave7iDiiDfGZmRltOIOIiIURMT1Nvwg8Auzc6jjMzKy+tl6DkDQI+Afg3kz1gZIelPRrSXvXWcZ4SVMlTV28eHGzQjUz63XaliAkbQFcB5wcEcuqqqcDu0XEUOA84IZay4mISRExPCKGd3R0NC1eM7Pepi0JQtJGFMnhyoj4eXV9RCyLiOVpejKwkaQBLQ7TzKxXa8ddTAIuAR6JiP9Xo80OqR2SRlDE+WzrojQzs3bcxXQQ8HHgIUkzUtlXgIEAEXEhcCTwWUkrgFeAsRERbYjVzKzXanmCiIgpgDppMxGY2JqIzMwsx9+kNjOzLCcIMzPLcoIwM7MsJwgzM8tygjAzsywnCDMzy3KCMDOzLCcIMzPLcoIwM7MsJwgzM8tygjAzsywnCDMzy3KCMDOzLCcIMzPLcoIwM7MsJwgzM8tygjAzsywnCDMzy3KCMDOzrLYkCEmjJD0maY6kCZl6STo31c+UtF874jQz681aniAk9QHOBw4HhgDjJA2panY4MDg9xgMXtDRIMzNryxnECGBORDwREa8B1wBjqtqMAS6Pwj1Af0k7tjpQM7PerB0JYmdgXun5/FS2tm3MzKyJ+rZhncqURRfaFA2l8RTdUADLJT22DrFtKAYAS9odRKP03XZHsF7YYI6Zj9dKveWY7Varoh0JYj6wa+n5LsCCLrQBICImAZO6M8D1naSpETG83XFY43zMNjw+Zu3pYrofGCxpd0kbA2OBG6va3Ah8It3N9DZgaUQsbHWgZma9WcvPICJihaQTgZuBPsClETFb0mdS/YXAZGA0MAd4GTi21XGamfV2ish27dt6TNL41LVmGwgfsw2Pj5kThJmZ1eChNszMLMsJwszMspwg1pGkkPTj0vO+khZL+lV6/oHceFPdsN7LJB1Zp34jSWdJelzSLEn3STq8i+uaK2lA16NtD0nLuzDPTpJ+1k3r317SVZKekDRN0t2SPtQdy07LP0PSF9ZynrXeJ91N0uuSZpQeg9aDmEZW/mfXcr7tJf1K0oOSHpY0uRnxtUs7vgfR07wE7CNp04h4BXgP8HSlMiJuZM3beFvhG8COwD4R8RdJ2wPvbEMcG5SIWADUTLzVJPWJiNcz5QJuAP47Ij6WynYDPrA28dRa/gbulYgYtrYzSeobESuaEM+6+Dpwa0ScAyBp3+5Y6PqyrT6D6B6/Bt6XpscBV1cqJB0jaWKa3lPSPZLul/T1yqe56k8vkiZKOiZN7y/pzvQJ9OZGxqSStBlwPPCvEfEXgIh4JiKuTfXjJD2Uziy+W5ovW74hk7SFpNskTU/bNiaVf1fS50rtzpB0iqRBkmalsj6SvpeO10xJn07lIyXdLukq4KEaq34X8Fq6bRuAiHgqIs5Ly1j5ukjPfyVpZJpenl4f9wIHls/gJA2XdEdpPUMl/TadKR5fWt4XS3Gf2fU92Bq1XueS7pD0bUl3Aiel599NZ8R/kPT21G6QpN+l4zxd0j+m8pFpnp9JelTSlSl5V0aVflTSFOCfSrFsI+mGtO/u6eRNf0eKL/YCEBEzS+ut9T99ejo2syRNKsVTva1r7BMVZ7jls6/X0wePpnCC6B7XAGMlbQLsC9xbo905wDkRcQA1vhleJmkj4DzgyIjYH7gU+FYD8bwJ+FNELMsscyfguxRvYMOAAyR9sFZ5A+ta370KfCgi9gMOAc5O/5DXAB8ttfsI8NOqeT9J8SXNA4ADgOMl7Z7qRgCnRUT1SMQVewPTuxjz5sCsiHhrREzppO2+FB9ODgROT28gh1GMhDyC4ljuL+kdXYylGTYtvcFd38DrvH9EvDMizk7P+0bECOBk4GupbBHwnnScPwqcW5r/H1LbIcAewEHpf/Ui4P3A24EdSu3PBB6IiH2BrwCX19mW84FL0geG09L/UWcmRsQBEbEPsClwRPW2pvjX2CcRsSAihqUzsIuA6yLiqQbW2SXuYuoGETFTRT/qOIov+dVyIPDBNH0V8F+dLHovYB/g1vQhow+wrt8oPwC4IyIWA0i6EngHxVhXufIb1nF97Sbg2+kN8m8Ugz5uHxEPSNou/UN3AM9HxJ+0en/4YcC+WnWtZyuKN97XgPsi4smGg5DOBw6mOKs4oJPmrwPXNbjoX6SuzVck3U6RFA5OsT+Q2myR4r6r0XibbLUuJkn7UP91/pOq+X+e/k4DBqXpjYCJkoZR7L83l9rfFxHz07pmpHmWA09GxOOp/ApWjel2MPDPABHxW0nbStoqIpZWb0hE3CxpD2AUxc8UPJC2p55DJH0J2AzYBpgN/LJqW+v+70s6CPgURXJrGieI7nMjxRv+SGDbtZx3BaufzW2S/gqYHREHruXy5gADJfWLiBer6nIDIdYr39D9C0UC2D8i/ippLqv2788orjfsQHFGUU0U3XQ3r1ZYdAW91Ml6Z5PeZAAi4oTUTTQ1FdU65gCvVl13KLctt4M1B7GMFPd3IuL/dxLj+qKz13n1vv5L+vs6q97D/g14BhhKsa9ezbSvnqfWl8AaHiwUICKeo/jAd1XqVnpHimWN45vOXH4IDI+IeZLOYPVjWtnWmvskdb9dAnwgIpp604G7mLrPpcDXI6JWnzTAPax60xhbKn8KGCLpjZK2Ag5N5Y8BHZIOhJV3Ju3dWSAR8TLFC+hcFeNdkfovj6Lo/nqnpAEqfrxpHHBnnfIN3VbAopQcDmH1kSuvoTgOR1Iki2o3A59NXSBIerOkzRtc72+BTSR9tlS2WWl6LjBM0hsk7Urxyb+WucD+afqfq+rGSNpE0rYUH07uT3EfJ2mLFPfOkrZrMO526NLrvMpWwMKI+BvwcYpP3PU8Cuwuac/0fFyp7i6KDxaVDwNLct21qf5dKq75IakfsCfwJ2r/T1eSwZJ0fGrdEJHdJ+m1eC1wakT8oZNtXGc+g+gm6RT2nE6anQxcIekU4CZgaZp3nqRrgZnA46SugYh4LXVvnJteZH2BH1B8Ou3MV4FvAg9LepXik8npEbFQ0peB2yk+pUyOiF8A1CrfEEnqS/HJ8Urgl5KmAjMo3hgASGOA9QOerjEY5MUU3RHT03WLxazqIqwrIiJdw/l+6k5YTHEMTk1Nfg88SXGRexb1r1ecSdHP/RXWvL51H8VraSDwjXQX1gJJbwHuTt0Ty4GjKPrp1zvr+Dqv+CFwnaQPU7yG657hRcSrKn4q4CZJS4ApFF06AGcAP5I0k2IsuKPrLGp/iq6tylnexRFxP0CN/+kXJF1EcdznUiT0XHy19skAim7iM7Xq5oPR6bh3Ow+10ULpk8Yr6c1jLDAuIqp/Tc+6gaShwEXpYqaZdYHPIFqr8mlDwAvAce0Np2dSMTLw5ynO2Mysi3wGsYGTdD2we1XxqdUXVq05Ut//bZmqQyPi2VbHY80h6VjgpKri30fECe2Ip1WcIMzMLMt3MZmZWZYThJmZZTlBmFVRaTymUtlaj5y6luu8WFKtYTvM2sJ3MZm1mYoRWz/V7jjMqvkMwmwtSPq8inH/Z0q6JpWtdnahYpTOQWn6BhWjcc5OX8yqtKkesfUOScNT3Rqj6qoYWfayVPaQpH9r5XZb7+QzCLO1MwHYPf3GRv8G2h8XEc9J2hS4X9J16fbXyoitpwOkbzyXR9vdH3geuCV9I3sesHMaAZQG1222TnwGYbamWvd+B8XQCVemca0a+UGXz0t6kGIcrl0pRlWF2iO2rhxtN/1gTGVU3SeAPSSdJ2kUkB0byKw7OUGYrelZYOuqsm2AJRS/vXA+xSf8aWnMp+zIrGmgt3cDB0bEUIrxeCqDtVWP2FqRHVU3Ip6nGKn0DuAEinGizJrKCcKsShpCeaGkQ6H4hTGK8f6nALtGxO3Al4D+FL+1MBfYL7Xdj1XfbN+K4ncmXpb0d8DbGlh9dlRdFUOFvyEirgP+o7I+s2byNQizvE8A50uq/IrZmRTDON+eRtcU8P00Oud1wCdU/BjN/UBlGObfAJ9Jo4I+RtHNVFet0XbT4IM/klT5UPflbtlKszo81IaZmWW5i8nMzLKcIMzMLMsJwszMspwgzMwsywnCzMyynCDMzCzLCcLMzLKcIMzMLOv/APVuBgtpowUvAAAAAElFTkSuQmCC\n",
      "text/plain": [
       "<Figure size 540x540 with 12 Axes>"
      ]
    },
    {
     "data": {
      "text/plain": [
       "<AxesSubplot:xlabel='temperature', ylabel='Density'>"
      ]
     },
     "execution_count": 13,
     "metadata": {},
     "output_type": "execute_result"
    },
    {
     "data": {
      "image/png": "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\n",
      "text/plain": [
       "<Figure size 432x288 with 1 Axes>"
      ]
     },
     "metadata": {
      "needs_background": "light"
     },
     "output_type": "display_data"
    }
   ],
   "source": [
    "sns. distplot(df.temperature)"
   ]
  },
  {
   "cell_type": "markdown",
   "metadata": {},
   "source": [
    "# Gráfica de humedad"
   ]
  },
  {
   "cell_type": "code",
   "execution_count": 14,
   "metadata": {},
   "outputs": [
    {
     "name": "stderr",
     "output_type": "stream",
     "text": [
      "C:\\Users\\thean\\anaconda3\\lib\\site-packages\\seaborn\\distributions.py:2551: FutureWarning: `distplot` is a deprecated function and will be removed in a future version. Please adapt your code to use either `displot` (a figure-level function with similar flexibility) or `histplot` (an axes-level function for histograms).\n",
      "  warnings.warn(msg, FutureWarning)\n"
     ]
    },
    {
     "data": {
      "text/plain": [
       "<AxesSubplot:xlabel='humidity', ylabel='Density'>"
      ]
     },
     "execution_count": 14,
     "metadata": {},
     "output_type": "execute_result"
    },
    {
     "data": {
      "image/png": "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\n",
      "text/plain": [
       "<Figure size 432x288 with 1 Axes>"
      ]
     },
     "metadata": {
      "needs_background": "light"
     },
     "output_type": "display_data"
    }
   ],
   "source": [
    "sns.distplot(df.humidity)"
   ]
  },
  {
   "cell_type": "markdown",
   "metadata": {},
   "source": []
  },
  {
   "cell_type": "code",
   "execution_count": null,
   "metadata": {},
   "outputs": [],
   "source": []
  },
  {
   "cell_type": "code",
   "execution_count": null,
   "metadata": {},
   "outputs": [],
   "source": []
  },
  {
   "cell_type": "code",
   "execution_count": null,
   "metadata": {},
   "outputs": [],
   "source": []
  }
 ],
 "metadata": {
  "kernelspec": {
   "display_name": "Python 3",
   "language": "python",
   "name": "python3"
  },
  "language_info": {
   "codemirror_mode": {
    "name": "ipython",
    "version": 3
   },
   "file_extension": ".py",
   "mimetype": "text/x-python",
   "name": "python",
   "nbconvert_exporter": "python",
   "pygments_lexer": "ipython3",
   "version": "3.8.5"
  }
 },
 "nbformat": 4,
 "nbformat_minor": 4
}
