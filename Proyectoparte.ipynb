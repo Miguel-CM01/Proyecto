{
 "cells": [
  {
   "cell_type": "markdown",
   "metadata": {},
   "source": [
    "\n",
    "# 1. Importar librerias"
   ]
  },
  {
   "cell_type": "code",
   "execution_count": 4,
   "metadata": {},
   "outputs": [],
   "source": [
    "import pandas as pd\n",
    "import matplotlib.pyplot as plt\n",
    "import numpy as np\n",
    "import seaborn as sns\n",
    "\n",
    "\n",
    "\n",
    "from matplotlib import pyplot as plt\n",
    "%matplotlib inline\n",
    "\n",
    "\n"
   ]
  },
  {
   "cell_type": "markdown",
   "metadata": {},
   "source": [
    "# 2. Leer los datos de la página"
   ]
  },
  {
   "cell_type": "code",
   "execution_count": 5,
   "metadata": {},
   "outputs": [],
   "source": [
    "from urllib.request import urlopen\n",
    "\n",
    "html = urlopen(\"https://securityfaceaccess.000webhostapp.com/proyectoapi/Ctrlsensors/mostrar\").read()\n",
    "df = pd.read_json(html)"
   ]
  },
  {
   "cell_type": "markdown",
   "metadata": {},
   "source": [
    "# 3.1 Se visualizan los 3 primeros datos"
   ]
  },
  {
   "cell_type": "code",
   "execution_count": 6,
   "metadata": {},
   "outputs": [
    {
     "data": {
      "text/html": [
       "<div>\n",
       "<style scoped>\n",
       "    .dataframe tbody tr th:only-of-type {\n",
       "        vertical-align: middle;\n",
       "    }\n",
       "\n",
       "    .dataframe tbody tr th {\n",
       "        vertical-align: top;\n",
       "    }\n",
       "\n",
       "    .dataframe thead th {\n",
       "        text-align: right;\n",
       "    }\n",
       "</style>\n",
       "<table border=\"1\" class=\"dataframe\">\n",
       "  <thead>\n",
       "    <tr style=\"text-align: right;\">\n",
       "      <th></th>\n",
       "      <th>ID</th>\n",
       "      <th>Nombre</th>\n",
       "      <th>Fecha de Entrada</th>\n",
       "      <th>Hora de Entrada</th>\n",
       "      <th>Luminosidad</th>\n",
       "    </tr>\n",
       "  </thead>\n",
       "  <tbody>\n",
       "    <tr>\n",
       "      <th>1</th>\n",
       "      <td>1</td>\n",
       "      <td>Miguel_Cool</td>\n",
       "      <td>2021-02-07</td>\n",
       "      <td>18:32:11</td>\n",
       "      <td>984</td>\n",
       "    </tr>\n",
       "    <tr>\n",
       "      <th>2</th>\n",
       "      <td>2</td>\n",
       "      <td>Javier_Gurubel</td>\n",
       "      <td>2021-02-07</td>\n",
       "      <td>18:39:25</td>\n",
       "      <td>1024</td>\n",
       "    </tr>\n",
       "    <tr>\n",
       "      <th>3</th>\n",
       "      <td>3</td>\n",
       "      <td>Fernando_Suarez</td>\n",
       "      <td>2021-02-07</td>\n",
       "      <td>18:45:11</td>\n",
       "      <td>526</td>\n",
       "    </tr>\n",
       "  </tbody>\n",
       "</table>\n",
       "</div>"
      ],
      "text/plain": [
       "      ID       Nombre          Fecha     Hora   Luminosidad\n",
       "147  148  Miguel_Cool     2020-11-20 19:10:28           984\n",
       "148  149  Javier_Gurubel  2020-11-20 19:11:19          1024\n",
       "149  150  Fernando_Suarez 2020-11-20 19:11:44             526"
      ]
     },
     "execution_count": 6,
     "metadata": {},
     "output_type": "execute_result"
    }
   ],
   "source": [
    "df.tail(50)"
   ]
  },
  {
   "cell_type": "markdown",
   "metadata": {},
   "source": [
    "# 3.2 Parámetros describe Pandas"
   ]
  },
  {
   "cell_type": "code",
   "execution_count": 7,
   "metadata": {},
   "outputs": [
    {
     "data": {
      "text/html": [
       "<div>\n",
       "<style scoped>\n",
       "    .dataframe tbody tr th:only-of-type {\n",
       "        vertical-align: middle;\n",
       "    }\n",
       "\n",
       "    .dataframe tbody tr th {\n",
       "        vertical-align: top;\n",
       "    }\n",
       "\n",
       "    .dataframe thead th {\n",
       "        text-align: right;\n",
       "    }\n",
       "</style>\n",
       "<table border=\"1\" class=\"dataframe\">\n",
       "  <thead>\n",
       "    <tr style=\"text-align: right;\">\n",
       "      <th></th>\n",
       "      <th>Luminosidad</th>\n",
       "    </tr>\n",
       "  </thead>\n",
       "  <tbody>\n",
       "    <tr>\n",
       "      <th>count</th>\n",
       "      <td>101.000000</td>\n",
       "    </tr>\n",
       "    <tr>\n",
       "      <th>mean</th>\n",
       "      <td>844.666</td>\n",
       "    </tr>\n",
       "    <tr>\n",
       "      <th>std</th>\n",
       "      <td>806.022721</td>\n",
       "    </tr>\n",
       "    <tr>\n",
       "      <th>min</th>\n",
       "      <td>123.800000</td>\n",
       "    </tr>\n",
       "    <tr>\n",
       "      <th>25%</th>\n",
       "      <td>912.50000</td>\n",
       "    </tr>\n",
       "    <tr>\n",
       "      <th>50%</th>\n",
       "      <td>552.0200000</td>\n",
       "    </tr>\n",
       "    <tr>\n",
       "      <th>75%</th>\n",
       "      <td>758.100000</td>\n",
       "    </tr>\n",
       "    <tr>\n",
       "      <th>max</th>\n",
       "      <td>409.550000</td>\n",
       "    </tr>\n",
       "  </tbody>\n",
       "</table>\n",
       "</div>"
      ],
      "text/plain": [
       "               id  temperature    humidity         rain         light\n",
       "count  152.000000   152.000000  152.000000   152.000000    152.000000\n",
       "mean    76.500000    27.565789   76.819737   970.875000   2184.953947\n",
       "std     44.022721     2.291074    6.819169   226.136199   9425.433083\n",
       "min      1.000000     0.000000    0.000000    12.000000     -2.000000\n",
       "25%     38.750000    27.600000   75.000000  1024.000000    144.250000\n",
       "50%     76.500000    27.700000   76.000000  1024.000000    194.000000\n",
       "75%    114.250000    28.000000   79.325000  1024.000000    195.000000\n",
       "max    152.000000    29.700000   85.000000  1024.000000  54612.000000"
      ]
     },
     "execution_count": 7,
     "metadata": {},
     "output_type": "execute_result"
    }
   ],
   "source": [
    "df.describe()"
   ]
  },
  {
   "cell_type": "markdown",
   "metadata": {},
   "source": [
    "# Relaciones de los datos\n",
    "## Relacion de las entradas con la luminosidad\n"
   ]
  },
  {
   "cell_type": "code",
   "execution_count": 8,
   "metadata": {},
   "outputs": [],
   "source": [
    "relation = df[['Entradas', 'Luminosidad']]"
   ]
  },
  {
   "cell_type": "markdown",
   "metadata": {},
   "source": [
    "## 4 Se muestran los datos de la relacion"
   ]
  },
  {
   "cell_type": "code",
   "execution_count": 9,
   "metadata": {},
   "outputs": [
    {
     "data": {
      "text/html": [
       "<div>\n",
       "<style scoped>\n",
       "    .dataframe tbody tr th:only-of-type {\n",
       "        vertical-align: middle;\n",
       "    }\n",
       "\n",
       "    .dataframe tbody tr th {\n",
       "        vertical-align: top;\n",
       "    }\n",
       "\n",
       "    .dataframe thead th {\n",
       "        text-align: right;\n",
       "    }\n",
       "</style>\n",
       "<table border=\"1\" class=\"dataframe\">\n",
       "  <thead>\n",
       "    <tr style=\"text-align: right;\">\n",
       "      <th>ID</th>\n",
       "      <th>Entradas</th>\n",
       "      <th>Luminosidad</th>\n",
       "    </tr>\n",
       "  </thead>\n",
       "  <tbody>\n",
       "    <tr>\n",
       "      <th>1</th>\n",
       "      <td>Miguel_Cool</td>\n",
       "      <td>984</td>\n",
       "    </tr>\n",
       "    <tr>\n",
       "      <th>2</th>\n",
       "      <td>Javier_Gurubel</td>\n",
       "      <td>1024</td>\n",
       "    </tr>\n",
       "    <tr>\n",
       "      <th>3</th>\n",
       "      <td>Fernando_Suarez</td>\n",
       "      <td>526</td>\n",
       "    </tr>\n",
       "  </tbody>\n",
       "</table>\n",
       "</div>"
      ],
      "text/plain": [
       "ID          Entradas   Luminosidad\n",
       "1        Miguel_Cool           984\n",
       "2     Javier_Gurubel          1024\n",
       "3    Fernando_Suarez             526"
      ]
     },
     "execution_count": 9,
     "metadata": {},
     "output_type": "execute_result"
    }
   ],
   "source": [
    " relation.tail(5)"
   ]
  },
  {
   "cell_type": "markdown",
   "metadata": {},
   "source": [
    "# Uso de gráficos con Seaborn\n",
    "# Gráfica de la relacion"
   ]
  },
  {
   "cell_type": "code",
   "execution_count": 11,
   "metadata": {},
   "outputs": [
    {
     data:
     "image/png": "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\n",
      "text/plain": [
       "<Figure size 360x360 with 6 Axes>"
       ]
     },
     "metadata": {
      "needs_background": "light"
     },
     "output_type": "display_data"
    }
   ],
   "source": [
    "sns.pairplot(relation, kind='reg')\n",
    "plt.show()"
   ]
  },
  {
   "cell_type": "markdown",
   "metadata": {},
   "source": [
    "# Gráfica de la relacion 2"
   ]
  },
  {
   "cell_type": "code",
   "execution_count": 12,
   "metadata": {},
   "outputs": [
    {
     "data": {
      "image/png": "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\n",
      "text/plain": [
       "<Figure size 360x360 with 6 Axes>"
      ]
     },
     "metadata": {
      "needs_background": "light"
     },
     "output_type": "display_data"
    }
   ],
   "source": [
    "sns.pairplot(relation2, kind='reg')\n",
    "plt.show()"
   ]
  },
  {
   "cell_type": "markdown",
   "metadata": {},
   "source": [
    "# Gráfica de temperatura"
   ]
  },
  {
   "cell_type": "code",
   "execution_count": 13,
   "metadata": {
    "scrolled": true
   },
   "outputs": [
    {
     "name": "stderr",
     "output_type": "stream",
     "text": [
      "C:\\Users\\thean\\anaconda3\\lib\\site-packages\\seaborn\\distributions.py:2551: FutureWarning: `distplot` is a deprecated function and will be removed in a future version. Please adapt your code to use either `displot` (a figure-level function with similar flexibility) or `histplot` (an axes-level function for histograms).\n",
      "  warnings.warn(msg, FutureWarning)\n"
     ]
    },
    {
     "data": {
      "text/plain": [
       "<AxesSubplot:xlabel='temperature', ylabel='Density'>"
      ]
     },
     "execution_count": 13,
     "metadata": {},
     "output_type": "execute_result"
    },
    {
     "data": {
      "image/png": "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\n",
      "text/plain": [
       "<Figure size 432x288 with 1 Axes>"
      ]
     },
     "metadata": {
      "needs_background": "light"
     },
     "output_type": "display_data"
    }
   ],
   "source": [
    "sns. distplot(df.temperature)"
   ]
  },
  {
   "cell_type": "markdown",
   "metadata": {},
   "source": [
    "# Gráfica de humedad"
   ]
  },
  {
   "cell_type": "code",
   "execution_count": 14,
   "metadata": {},
   "outputs": [
    {
     "name": "stderr",
     "output_type": "stream",
     "text": [
      "C:\\Users\\thean\\anaconda3\\lib\\site-packages\\seaborn\\distributions.py:2551: FutureWarning: `distplot` is a deprecated function and will be removed in a future version. Please adapt your code to use either `displot` (a figure-level function with similar flexibility) or `histplot` (an axes-level function for histograms).\n",
      "  warnings.warn(msg, FutureWarning)\n"
     ]
    },
    {
     "data": {
      "text/plain": [
       "<AxesSubplot:xlabel='humidity', ylabel='Density'>"
      ]
     },
     "execution_count": 14,
     "metadata": {},
     "output_type": "execute_result"
    },
    {
     "data": {
      "image/png": "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\n",
      "text/plain": [
       "<Figure size 432x288 with 1 Axes>"
      ]
     },
     "metadata": {
      "needs_background": "light"
     },
     "output_type": "display_data"
    }
   ],
   "source": [
    "sns.distplot(df.humidity)"
   ]
  },
  {
   "cell_type": "markdown",
   "metadata": {},
   "source": []
  },
  {
   "cell_type": "code",
   "execution_count": null,
   "metadata": {},
   "outputs": [],
   "source": []
  },
  {
   "cell_type": "code",
   "execution_count": null,
   "metadata": {},
   "outputs": [],
   "source": []
  },
  {
   "cell_type": "code",
   "execution_count": null,
   "metadata": {},
   "outputs": [],
   "source": []
  }
 ],
 "metadata": {
  "kernelspec": {
   "display_name": "Python 3",
   "language": "python",
   "name": "python3"
  },
  "language_info": {
   "codemirror_mode": {
    "name": "ipython",
    "version": 3
   },
   "file_extension": ".py",
   "mimetype": "text/x-python",
   "name": "python",
   "nbconvert_exporter": "python",
   "pygments_lexer": "ipython3",
   "version": "3.8.5"
  }
 },
 "nbformat": 4,
 "nbformat_minor": 4
}
